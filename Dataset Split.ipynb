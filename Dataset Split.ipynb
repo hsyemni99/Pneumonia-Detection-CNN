{
 "cells": [
  {
   "cell_type": "code",
   "execution_count": 1,
   "id": "78a62b10",
   "metadata": {},
   "outputs": [],
   "source": [
    "COVID19_DIR = 'Dataset/COVID-19'\n",
    "Normal_DIR = 'Dataset/Normal'\n",
    "Pneumonia_DIR = 'Dataset/Pneumonia'"
   ]
  },
  {
   "cell_type": "code",
   "execution_count": 2,
   "id": "2eaa23d7",
   "metadata": {},
   "outputs": [],
   "source": [
    "import os\n",
    "\n",
    "import numpy as np\n",
    "\n",
    "import shutil"
   ]
  },
  {
   "cell_type": "code",
   "execution_count": 3,
   "id": "e68b98f5",
   "metadata": {},
   "outputs": [],
   "source": [
    "rootdir= 'Dataset' #path of the original folder\n",
    "\n",
    "classes = ['COVID-19', 'Normal', 'Pneumonia']"
   ]
  },
  {
   "cell_type": "code",
   "execution_count": 4,
   "id": "c2988b7a",
   "metadata": {},
   "outputs": [],
   "source": [
    "for i in classes:\n",
    "    os.makedirs(rootdir +'/train/' + i)\n",
    "    os.makedirs(rootdir +'/test/' + i)\n",
    "    source = rootdir + '/' + i\n",
    "    allFileNames = os.listdir(source)\n",
    "    np.random.shuffle(allFileNames)\n",
    "    test_ratio = 0.20\n",
    "    train_FileNames, test_FileNames = np.split(np.array(allFileNames),[int(len(allFileNames)* (1 - test_ratio))])\n",
    "    train_FileNames = [source+'/'+ name for name in train_FileNames.tolist()]\n",
    "    test_FileNames = [source+'/' + name for name in test_FileNames.tolist()]\n",
    "\n",
    "    for name in train_FileNames:\n",
    "        shutil.copy(name, rootdir +'/train/' + i)\n",
    "    for name in test_FileNames:\n",
    "        shutil.copy(name, rootdir +'/test/' + i)\n"
   ]
  },
  {
   "cell_type": "code",
   "execution_count": null,
   "id": "f8cb1e8a",
   "metadata": {},
   "outputs": [],
   "source": []
  }
 ],
 "metadata": {
  "kernelspec": {
   "display_name": "Python 3 (ipykernel)",
   "language": "python",
   "name": "python3"
  },
  "language_info": {
   "codemirror_mode": {
    "name": "ipython",
    "version": 3
   },
   "file_extension": ".py",
   "mimetype": "text/x-python",
   "name": "python",
   "nbconvert_exporter": "python",
   "pygments_lexer": "ipython3",
   "version": "3.10.13"
  }
 },
 "nbformat": 4,
 "nbformat_minor": 5
}
